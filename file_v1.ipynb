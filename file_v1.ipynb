{
  "nbformat": 4,
  "nbformat_minor": 0,
  "metadata": {
    "colab": {
      "name": "file_v1.ipynb",
      "provenance": [],
      "collapsed_sections": [],
      "authorship_tag": "ABX9TyNISJSb2Dd99N3MLqXG8Cm9",
      "include_colab_link": true
    },
    "kernelspec": {
      "name": "python3",
      "display_name": "Python 3"
    },
    "accelerator": "GPU"
  },
  "cells": [
    {
      "cell_type": "markdown",
      "metadata": {
        "id": "view-in-github",
        "colab_type": "text"
      },
      "source": [
        "<a href=\"https://colab.research.google.com/github/GhostPandaGP/vh_pash/blob/master/file_v1.ipynb\" target=\"_parent\"><img src=\"https://colab.research.google.com/assets/colab-badge.svg\" alt=\"Open In Colab\"/></a>"
      ]
    },
    {
      "cell_type": "code",
      "metadata": {
        "id": "NigLlzqrX7g4",
        "colab_type": "code",
        "colab": {}
      },
      "source": [
        "# pip install"
      ],
      "execution_count": 0,
      "outputs": []
    },
    {
      "cell_type": "code",
      "metadata": {
        "id": "GOef6c0jYJww",
        "colab_type": "code",
        "colab": {}
      },
      "source": [
        "import pandas as pd\n",
        "import numpy as np\n",
        "import tqdm"
      ],
      "execution_count": 0,
      "outputs": []
    },
    {
      "cell_type": "code",
      "metadata": {
        "id": "v0PAQDmSYJ0s",
        "colab_type": "code",
        "colab": {}
      },
      "source": [
        "# Constant\n",
        "TYPE_IP_BRAS = {\n",
        "    \"89.239.189.1\": \"БРАС-1\",\n",
        "    \"89.239.189.2\": \"БРАС-2\"\n",
        "}\n",
        "\n",
        "LOGIN_STATUS_ERROR = {\n",
        "    \"OK\": False,\n",
        "}"
      ],
      "execution_count": 0,
      "outputs": []
    },
    {
      "cell_type": "code",
      "metadata": {
        "id": "U6AaMxliYKJ_",
        "colab_type": "code",
        "colab": {}
      },
      "source": [
        "string = \"Apr 29 06:08:38 rad radiusd: [17892] Billing-Accounting: 75/0 '0A4997B0-03@dhcp' via radius@startip_nn - OK -- input (2020.04.29 06:08:38,89.239.189.1:153224783,Virtual-Access,Framed,PPP,Start,ULSK-BR09232161500000563c2e122501,RADIUS,4,b0:b2:dc:88:ff:7d,92.252.138.145,0) delay 0.000032\""
      ],
      "execution_count": 0,
      "outputs": []
    },
    {
      "cell_type": "code",
      "metadata": {
        "id": "3ZSxC_fEYKWA",
        "colab_type": "code",
        "colab": {}
      },
      "source": [
        "class DataLog:\n",
        "    def __init__(self, string: str):\n",
        "        self.all_information = string\n",
        "        self.login = \"\"\n",
        "        self.login_status = \"\"\n",
        "        self.ip_bras = \"\"\n",
        "        self.bras_version = \"\"\n",
        "        self.session_id = \"\"\n",
        "        self.session_master = \"\"\n",
        "        self.session_account = \"\"\n",
        "        self.mac_abonent = \"\"\n",
        "        self.ip_abonent = \"\"\n",
        "        self.date = \"\"\n",
        "        self.delay = \"\"\n",
        "\n",
        "    def transform_data_input(self, string: str):\n",
        "        \"\"\"\n",
        "        string: str - Строка одного лога\n",
        "        \"\"\"\n",
        "\n",
        "        string = string.strip()\n",
        "\n",
        "        str_arr = string.split(\"(\")\n",
        "        str_info = str_arr[0] # общая информация об абоненте\n",
        "\n",
        "        # get login\n",
        "        login = str_info.split('\\'')[1]\n",
        "\n",
        "        # get login status\n",
        "        login_status = str_info.split(\" -- \")[0].split(\" - \")[1]\n",
        "\n",
        "        data_input = str_arr[1].split(\")\")[0].split(\",\")\n",
        "\n",
        "        # get bras info\n",
        "        ip_bras = data_input[1]\n",
        "        bras_version = TYPE_IP_BRAS[ip_bras.split(\":\")[0]]\n",
        "\n",
        "        # get session id\n",
        "        session_id = data_input[6]\n",
        "\n",
        "        # get session master\n",
        "        session_master = data_input[7]\n",
        "\n",
        "        # get session account version\n",
        "        session_account = data_input[7] + data_input[8]\n",
        "\n",
        "        # get mac abonent\n",
        "        mac_abonent = data_input[9]\n",
        "\n",
        "        # get ip abonent\n",
        "        ip_abonent = data_input[10]\n",
        "\n",
        "        # get delay\n",
        "        data_delay = string.split(\"delay \")[1]\n",
        "\n",
        "        return {\n",
        "            \"login\": login,\n",
        "            \"login_status\": login_status,\n",
        "            \"ip_bras\": ip_bras,\n",
        "            \"bras_version\": bras_version,\n",
        "            \"session_id\": session_id,\n",
        "            \"session_master\": session_master,\n",
        "            \"session_account\": session_account,\n",
        "            \"mac_abonent\": mac_abonent,\n",
        "            \"ip_abonent\": ip_abonent,\n",
        "            \"datе\": data_input[0],\n",
        "      #       \"input\": data_input,\n",
        "            \"delay\": data_delay,\n",
        "            \"all_information\": string,\n",
        "        }"
      ],
      "execution_count": 0,
      "outputs": []
    },
    {
      "cell_type": "code",
      "metadata": {
        "id": "NjGNAIc2YKeS",
        "colab_type": "code",
        "colab": {}
      },
      "source": [
        "def transform_data_input(string: str):\n",
        "    \"\"\"\n",
        "    string: str - Строка одного лога\n",
        "    \"\"\"\n",
        "\n",
        "    string = string.strip()\n",
        "\n",
        "    str_arr = string.split(\"(\")\n",
        "    str_info = str_arr[0] # общая информация об абоненте\n",
        "\n",
        "    # get login\n",
        "    login = str_info.split('\\'')[1]\n",
        "\n",
        "    # get login status\n",
        "    login_status = str_info.split(\" -- \")[0].split(\" - \")[1]\n",
        "\n",
        "    data_input = str_arr[1].split(\")\")[0].split(\",\")\n",
        "\n",
        "    # get bras info\n",
        "    ip_bras = data_input[1]\n",
        "    bras_version = TYPE_IP_BRAS[ip_bras.split(\":\")[0]]\n",
        "\n",
        "    # get session id\n",
        "    session_id = data_input[6]\n",
        "\n",
        "    # get session master\n",
        "    session_master = data_input[7]\n",
        "\n",
        "    # get session account version\n",
        "    session_account = data_input[7] + data_input[8]\n",
        "\n",
        "    # get mac abonent\n",
        "    mac_abonent = data_input[9]\n",
        "\n",
        "    # get ip abonent\n",
        "    ip_abonent = data_input[10]\n",
        "\n",
        "    # get delay\n",
        "    data_delay = string.split(\"delay \")[1]\n",
        "\n",
        "    return {\n",
        "        \"login\": login,\n",
        "        \"login_status\": login_status,\n",
        "        \"ip_bras\": ip_bras,\n",
        "        \"bras_version\": bras_version,\n",
        "        \"session_id\": session_id,\n",
        "        \"session_master\": session_master,\n",
        "        \"session_account\": session_account,\n",
        "        \"mac_abonent\": mac_abonent,\n",
        "        \"ip_abonent\": ip_abonent,\n",
        "        \"datе\": data_input[0],\n",
        "  #       \"input\": data_input,\n",
        "        \"delay\": data_delay,\n",
        "        \"all_information\": string,\n",
        "    }"
      ],
      "execution_count": 0,
      "outputs": []
    },
    {
      "cell_type": "code",
      "metadata": {
        "id": "HAhr4I1LYKmh",
        "colab_type": "code",
        "colab": {}
      },
      "source": [
        "def check_status(data_object):\n",
        "    \"\"\"\n",
        "    \"\"\"\n",
        "\n",
        "    try:\n",
        "      error = LOGIN_STATUS_ERROR[data_object[\"login_status\"]]\n",
        "      return error\n",
        "    except KeyError:\n",
        "      print(\"Error in key\")\n",
        "    except:\n",
        "      print(f\"Underfind error in {data_object['all_information']}\")"
      ],
      "execution_count": 0,
      "outputs": []
    },
    {
      "cell_type": "code",
      "metadata": {
        "id": "1eDdy1gfYKu8",
        "colab_type": "code",
        "colab": {
          "base_uri": "https://localhost:8080/",
          "height": 245
        },
        "outputId": "14b112ae-b7f5-48cf-cf8f-a30724535b05"
      },
      "source": [
        "data_object = transform_data_input(string)\n",
        "data_object"
      ],
      "execution_count": 7,
      "outputs": [
        {
          "output_type": "execute_result",
          "data": {
            "text/plain": [
              "{'all_information': \"Apr 29 06:08:38 rad radiusd: [17892] Billing-Accounting: 75/0 '0A4997B0-03@dhcp' via radius@startip_nn - OK -- input (2020.04.29 06:08:38,89.239.189.1:153224783,Virtual-Access,Framed,PPP,Start,ULSK-BR09232161500000563c2e122501,RADIUS,4,b0:b2:dc:88:ff:7d,92.252.138.145,0) delay 0.000032\",\n",
              " 'bras_version': 'БРАС-1',\n",
              " 'datе': '2020.04.29 06:08:38',\n",
              " 'delay': '0.000032',\n",
              " 'ip_abonent': '92.252.138.145',\n",
              " 'ip_bras': '89.239.189.1:153224783',\n",
              " 'login': '0A4997B0-03@dhcp',\n",
              " 'login_status': 'OK',\n",
              " 'mac_abonent': 'b0:b2:dc:88:ff:7d',\n",
              " 'session_account': 'RADIUS4',\n",
              " 'session_id': 'ULSK-BR09232161500000563c2e122501',\n",
              " 'session_master': 'RADIUS'}"
            ]
          },
          "metadata": {
            "tags": []
          },
          "execution_count": 7
        }
      ]
    },
    {
      "cell_type": "code",
      "metadata": {
        "id": "TzLJphEUYK3d",
        "colab_type": "code",
        "colab": {
          "base_uri": "https://localhost:8080/",
          "height": 34
        },
        "outputId": "271e6565-6dbd-4b7f-92a7-9cb60fb67cd8"
      },
      "source": [
        "check_status(data_object)"
      ],
      "execution_count": 8,
      "outputs": [
        {
          "output_type": "execute_result",
          "data": {
            "text/plain": [
              "False"
            ]
          },
          "metadata": {
            "tags": []
          },
          "execution_count": 8
        }
      ]
    },
    {
      "cell_type": "code",
      "metadata": {
        "id": "CvcVsRA1db7d",
        "colab_type": "code",
        "colab": {}
      },
      "source": [
        ""
      ],
      "execution_count": 0,
      "outputs": []
    },
    {
      "cell_type": "code",
      "metadata": {
        "id": "cXpvraxcdcBt",
        "colab_type": "code",
        "colab": {}
      },
      "source": [
        ""
      ],
      "execution_count": 0,
      "outputs": []
    },
    {
      "cell_type": "code",
      "metadata": {
        "id": "WkvtRUePddWT",
        "colab_type": "code",
        "colab": {}
      },
      "source": [
        ""
      ],
      "execution_count": 0,
      "outputs": []
    },
    {
      "cell_type": "code",
      "metadata": {
        "id": "toBLTlDyddev",
        "colab_type": "code",
        "colab": {}
      },
      "source": [
        ""
      ],
      "execution_count": 0,
      "outputs": []
    },
    {
      "cell_type": "code",
      "metadata": {
        "id": "blqXZQliYK_k",
        "colab_type": "code",
        "outputId": "29842f09-c7df-4026-921a-ed60125b6348",
        "colab": {
          "base_uri": "https://localhost:8080/",
          "height": 232
        }
      },
      "source": [
        "logs=[]\n",
        "with open(\"/Users/marinaaramnova/Downloads/radius.log.1\",encoding=\"cp1251\") as log:\n",
        "    text = log.readline()\n",
        "    i = 0\n",
        "    j = 0\n",
        "    \n",
        "    for k in tqdm.tqdm_notebook(range(10000000)):        \n",
        "        try:\n",
        "            text = log.readline()\n",
        "            if text == '':\n",
        "                break\n",
        "                \n",
        "            i += 1\n",
        "            line = text\n",
        "            logs.append(line)\n",
        "            \n",
        "        except:\n",
        "            j += 1\n",
        "\n",
        "print(j)"
      ],
      "execution_count": 0,
      "outputs": [
        {
          "output_type": "error",
          "ename": "FileNotFoundError",
          "evalue": "ignored",
          "traceback": [
            "\u001b[0;31m---------------------------------------------------------------------------\u001b[0m",
            "\u001b[0;31mFileNotFoundError\u001b[0m                         Traceback (most recent call last)",
            "\u001b[0;32m<ipython-input-2-cee796099807>\u001b[0m in \u001b[0;36m<module>\u001b[0;34m()\u001b[0m\n\u001b[1;32m      1\u001b[0m \u001b[0mlogs\u001b[0m\u001b[0;34m=\u001b[0m\u001b[0;34m[\u001b[0m\u001b[0;34m]\u001b[0m\u001b[0;34m\u001b[0m\u001b[0;34m\u001b[0m\u001b[0m\n\u001b[0;32m----> 2\u001b[0;31m \u001b[0;32mwith\u001b[0m \u001b[0mopen\u001b[0m\u001b[0;34m(\u001b[0m\u001b[0;34m\"/Users/marinaaramnova/Downloads/radius.log.1\"\u001b[0m\u001b[0;34m,\u001b[0m\u001b[0mencoding\u001b[0m\u001b[0;34m=\u001b[0m\u001b[0;34m\"cp1251\"\u001b[0m\u001b[0;34m)\u001b[0m \u001b[0;32mas\u001b[0m \u001b[0mlog\u001b[0m\u001b[0;34m:\u001b[0m\u001b[0;34m\u001b[0m\u001b[0;34m\u001b[0m\u001b[0m\n\u001b[0m\u001b[1;32m      3\u001b[0m     \u001b[0mtext\u001b[0m \u001b[0;34m=\u001b[0m \u001b[0mlog\u001b[0m\u001b[0;34m.\u001b[0m\u001b[0mreadline\u001b[0m\u001b[0;34m(\u001b[0m\u001b[0;34m)\u001b[0m\u001b[0;34m\u001b[0m\u001b[0;34m\u001b[0m\u001b[0m\n\u001b[1;32m      4\u001b[0m     \u001b[0mi\u001b[0m \u001b[0;34m=\u001b[0m \u001b[0;36m0\u001b[0m\u001b[0;34m\u001b[0m\u001b[0;34m\u001b[0m\u001b[0m\n\u001b[1;32m      5\u001b[0m     \u001b[0mj\u001b[0m \u001b[0;34m=\u001b[0m \u001b[0;36m0\u001b[0m\u001b[0;34m\u001b[0m\u001b[0;34m\u001b[0m\u001b[0m\n",
            "\u001b[0;31mFileNotFoundError\u001b[0m: [Errno 2] No such file or directory: '/Users/marinaaramnova/Downloads/radius.log.1'"
          ]
        }
      ]
    },
    {
      "cell_type": "code",
      "metadata": {
        "id": "c4zYVOKbYLHb",
        "colab_type": "code",
        "colab": {}
      },
      "source": [
        ""
      ],
      "execution_count": 0,
      "outputs": []
    },
    {
      "cell_type": "code",
      "metadata": {
        "id": "9hOL-1hEYLPm",
        "colab_type": "code",
        "colab": {}
      },
      "source": [
        ""
      ],
      "execution_count": 0,
      "outputs": []
    },
    {
      "cell_type": "code",
      "metadata": {
        "id": "WcjwVATWYLYK",
        "colab_type": "code",
        "colab": {}
      },
      "source": [
        ""
      ],
      "execution_count": 0,
      "outputs": []
    },
    {
      "cell_type": "code",
      "metadata": {
        "id": "iuxbi0-zYLf7",
        "colab_type": "code",
        "colab": {}
      },
      "source": [
        ""
      ],
      "execution_count": 0,
      "outputs": []
    },
    {
      "cell_type": "code",
      "metadata": {
        "id": "mhaGYnT4YMAX",
        "colab_type": "code",
        "colab": {}
      },
      "source": [
        ""
      ],
      "execution_count": 0,
      "outputs": []
    }
  ]
}